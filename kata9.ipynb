{
 "cells": [
  {
   "cell_type": "markdown",
   "metadata": {},
   "source": [
    "## Ejercicio 1"
   ]
  },
  {
   "cell_type": "code",
   "execution_count": 2,
   "metadata": {},
   "outputs": [
    {
     "name": "stdout",
     "output_type": "stream",
     "text": [
      "Informe de tanques:\n",
      "    promedio tanques:promedio_tanques%\n",
      "    tanque_1:tanque_1%\n",
      "    tanque_2:tanque_2% \n",
      "    tanque_3:tanque_3% \n",
      "    \n"
     ]
    }
   ],
   "source": [
    "def combustible(tanque_1, tanque_2, tanque_3):\n",
    "    promedio_tanques=(tanque_1 + tanque_2+ tanque_3)/3\n",
    "    return f\"\"\"Informe de tanques:\n",
    "    promedio tanques:{'promedio_tanques'}%\n",
    "    tanque_1:{'tanque_1'}%\n",
    "    tanque_2:{'tanque_2'}% \n",
    "    tanque_3:{'tanque_3'}% \n",
    "    \"\"\"\n",
    "print(combustible(80,70,85))\n"
   ]
  },
  {
   "cell_type": "code",
   "execution_count": 5,
   "metadata": {},
   "outputs": [
    {
     "name": "stdout",
     "output_type": "stream",
     "text": [
      "Informe de tanques:\n",
      "    promedio tanques:promedio_tanques%\n",
      "    tanque_1:tanque_1%\n",
      "    tanque_2:tanque_2% \n",
      "    tanque_3:tanque_3% \n",
      "    \n"
     ]
    },
    {
     "data": {
      "text/plain": [
       "82.0"
      ]
     },
     "execution_count": 5,
     "metadata": {},
     "output_type": "execute_result"
    }
   ],
   "source": [
    "\n",
    "  \n",
    "print(combustible(80,70,85))\n",
    "def promedio_tanques(values):\n",
    "    total=sum(values)\n",
    "    num_items=len(values)\n",
    "    return total/num_items\n",
    "promedio_tanques([80, 85, 81]) \n",
    "\n"
   ]
  },
  {
   "cell_type": "code",
   "execution_count": 8,
   "metadata": {},
   "outputs": [
    {
     "name": "stdout",
     "output_type": "stream",
     "text": [
      "Reporte combustibles:\n",
      "    promedio_tanques: 78.0%\n",
      "    tanque_1:tanque_1%\n",
      "    tanque_2:tanque_2% \n",
      "    tanque_3:tanque_3% \n"
     ]
    }
   ],
   "source": [
    "def combustible(tanque_1, tanque_2, tanque_3):\n",
    "    return f\"\"\"Reporte combustibles:\n",
    "    promedio_tanques: {promedio_tanques([tanque_1, tanque_2, tanque_3])}%\n",
    "    tanque_1:{'tanque_1'}%\n",
    "    tanque_2:{'tanque_2'}% \n",
    "    tanque_3:{'tanque_3'}% \"\"\"\n",
    "\n",
    "print(combustible(88, 76, 70))"
   ]
  },
  {
   "cell_type": "markdown",
   "metadata": {},
   "source": [
    "## Ejercicio 2"
   ]
  },
  {
   "cell_type": "code",
   "execution_count": 9,
   "metadata": {},
   "outputs": [
    {
     "name": "stdout",
     "output_type": "stream",
     "text": [
      "\n",
      "    Mission to Moon\n",
      "    Total travel time: 65 minutes\n",
      "    Total fuel left: 500000 gallons\n",
      "    \n"
     ]
    }
   ],
   "source": [
    "def mission_report(pre_launch_time, flight_time, destination, external_tank, main_tank):\n",
    "    return f\"\"\"\n",
    "    Mission to {destination}\n",
    "    Total travel time: {pre_launch_time + flight_time} minutes\n",
    "    Total fuel left: {external_tank + main_tank} gallons\n",
    "    \"\"\"\n",
    "\n",
    "print(mission_report(14, 51, \"Moon\", 200000, 300000))"
   ]
  },
  {
   "cell_type": "code",
   "execution_count": 10,
   "metadata": {},
   "outputs": [
    {
     "name": "stdout",
     "output_type": "stream",
     "text": [
      "\n",
      "    Mission to Moon\n",
      "    Total travel time: 76 minutes\n",
      "    Total fuel left: 500000\n",
      "    \n"
     ]
    }
   ],
   "source": [
    "def mission_report(destination, *minutes, **fuel_reservoirs):\n",
    "    return f\"\"\"\n",
    "    Mission to {destination}\n",
    "    Total travel time: {sum(minutes)} minutes\n",
    "    Total fuel left: {sum(fuel_reservoirs.values())}\n",
    "    \"\"\"\n",
    "\n",
    "print(mission_report(\"Moon\", 10, 15, 51, main=300000, external=200000))"
   ]
  },
  {
   "cell_type": "code",
   "execution_count": 11,
   "metadata": {},
   "outputs": [
    {
     "name": "stdout",
     "output_type": "stream",
     "text": [
      "\n",
      "    Mission to Moon\n",
      "    Total travel time: 74 minutes\n",
      "    Total fuel left: 500000\n",
      "    main tank --> 300000 gallons left\n",
      "external tank --> 200000 gallons left\n",
      "\n"
     ]
    }
   ],
   "source": [
    "def mission_report(destination, *minutes, **fuel_reservoirs):\n",
    "    main_report = f\"\"\"\n",
    "    Mission to {destination}\n",
    "    Total travel time: {sum(minutes)} minutes\n",
    "    Total fuel left: {sum(fuel_reservoirs.values())}\n",
    "    \"\"\"\n",
    "    for tank_name, gallons in fuel_reservoirs.items():\n",
    "        main_report += f\"{tank_name} tank --> {gallons} gallons left\\n\"\n",
    "    return main_report\n",
    "\n",
    "print(mission_report(\"Moon\", 8, 11, 55, main=300000, external=200000))"
   ]
  }
 ],
 "metadata": {
  "interpreter": {
   "hash": "cf960eb46d23ddff2d972984d3ba9e94ed12ea2863506cd2d61fa5eee592ec1f"
  },
  "kernelspec": {
   "display_name": "Python 3.10.2 64-bit",
   "language": "python",
   "name": "python3"
  },
  "language_info": {
   "codemirror_mode": {
    "name": "ipython",
    "version": 3
   },
   "file_extension": ".py",
   "mimetype": "text/x-python",
   "name": "python",
   "nbconvert_exporter": "python",
   "pygments_lexer": "ipython3",
   "version": "3.10.2"
  },
  "orig_nbformat": 4
 },
 "nbformat": 4,
 "nbformat_minor": 2
}
